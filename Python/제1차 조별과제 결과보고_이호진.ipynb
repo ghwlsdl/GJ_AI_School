{
  "nbformat": 4,
  "nbformat_minor": 0,
  "metadata": {
    "colab": {
      "name": "(수) hw20220623_이호진.ipynb",
      "provenance": [],
      "collapsed_sections": []
    },
    "kernelspec": {
      "name": "python3",
      "display_name": "Python 3"
    },
    "language_info": {
      "name": "python"
    }
  },
  "cells": [
    {
      "cell_type": "markdown",
      "source": [
        "# 제출자 : 이호진"
      ],
      "metadata": {
        "id": "pPpSw2bdg7Yi"
      }
    },
    {
      "cell_type": "markdown",
      "source": [
        "# 2022년 6월 23일 퀴즈\n",
        "\n",
        "```\n",
        "\"장마가 시작되었다. 비가 온다. 가뭄이 해소되었다.\"는 문장에 있는 글자 수는\n",
        "28\n",
        "자입니다.\n",
        "```\n",
        "\n",
        "위의 내용을 출력해보세요.\n",
        "\n",
        "조건 : 줄바꿈은 얼마든지 해도 됩니다. len 함수를 사용해서 진행해주세요."
      ],
      "metadata": {
        "id": "1dZUUgsAI5_p"
      }
    },
    {
      "cell_type": "markdown",
      "source": [
        "### 원본 코드"
      ],
      "metadata": {
        "id": "5lY5ZrXbqW-F"
      }
    },
    {
      "cell_type": "code",
      "source": [
        "a = \"장마가 시작되었다. 비가 온다. 가뭄이 해소되었다.\"\n",
        "b = \"는 문장에 있는 글자 수는\"\n",
        "c = \"자입니다.\"\n",
        "\n",
        "print('\"' + a + '\"' + b)\n",
        "print(len(a))\n",
        "print(c)"
      ],
      "metadata": {
        "colab": {
          "base_uri": "https://localhost:8080/"
        },
        "id": "VBtKOJxrGVNn",
        "outputId": "e794ca1f-b48f-4481-d65d-ed5b8d2dada8"
      },
      "execution_count": null,
      "outputs": [
        {
          "output_type": "stream",
          "name": "stdout",
          "text": [
            "\"장마가 시작되었다. 비가 온다. 가뭄이 해소되었다.\"는 문장에 있는 글자 수는\n",
            "28\n",
            "자입니다.\n"
          ]
        }
      ]
    },
    {
      "cell_type": "markdown",
      "source": [
        "1차 수정 코드"
      ],
      "metadata": {
        "id": "xRK_CJBvqb38"
      }
    },
    {
      "cell_type": "markdown",
      "source": [
        "print() 내에 \" 를 넣기 불편하여 변수 d로 지정해서 수정 진행"
      ],
      "metadata": {
        "id": "2jpcVl4EqsqU"
      }
    },
    {
      "cell_type": "code",
      "execution_count": null,
      "metadata": {
        "colab": {
          "base_uri": "https://localhost:8080/"
        },
        "id": "1_PAHXcFI1Tg",
        "outputId": "b116948b-9b79-4922-8e90-53d3738f581c"
      },
      "outputs": [
        {
          "output_type": "stream",
          "name": "stdout",
          "text": [
            "\"장마가 시작되었다. 비가 온다. 가뭄이 해소되었다.\"는 문장에 있는 글자 수는\n",
            "28\n",
            "자입니다.\n"
          ]
        }
      ],
      "source": [
        "a = \"장마가 시작되었다. 비가 온다. 가뭄이 해소되었다.\"\n",
        "b = \"는 문장에 있는 글자 수는\"\n",
        "c = \"자입니다.\"\n",
        "d = '\"' # 수정 코드\n",
        "\n",
        "print(d + a + d + b)\n",
        "print(len(a))\n",
        "print(c)"
      ]
    },
    {
      "cell_type": "markdown",
      "source": [
        "### 2차 수정 코드\n",
        "\n",
        "print를 한 줄로 진행"
      ],
      "metadata": {
        "id": "ZlB_87BNqpJE"
      }
    },
    {
      "cell_type": "code",
      "source": [
        "print(d + a + d + b + '\\n' + str(len(a)) + '\\n' + c) # len()로 나오는 것은 int 타입이기 때문에 str 처리를 해주어야 한다는 것을 알게 되었습니다."
      ],
      "metadata": {
        "id": "qta9W_JFJFC9",
        "colab": {
          "base_uri": "https://localhost:8080/"
        },
        "outputId": "627287da-0ae9-465f-dbcf-9ceb79614cdc"
      },
      "execution_count": null,
      "outputs": [
        {
          "output_type": "stream",
          "name": "stdout",
          "text": [
            "\"장마가 시작되었다. 비가 온다. 가뭄이 해소되었다.\"는 문장에 있는 글자 수는\n",
            "28\n",
            "자입니다.\n"
          ]
        }
      ]
    },
    {
      "cell_type": "markdown",
      "source": [
        "### 결론\n",
        "\n",
        "파이썬 이론을 숙지하고 이를 적용하는 것을 생활화해야겠다는 생각이 들었습니다."
      ],
      "metadata": {
        "id": "GdpP0znSrIah"
      }
    },
    {
      "cell_type": "code",
      "source": [
        "from time import time, sleep\n",
        "\n",
        "start = time()\n",
        "\n",
        "a = \"장마가 시작되었다. 비가 온다. 가뭄이 해소되었다.\"\n",
        "b = \"는 문장에 있는 글자 수는\"\n",
        "c = \"자입니다.\"\n",
        "d = '\"' # 수정 코드\n",
        "\n",
        "print(d + a + d + b)\n",
        "print(len(a))\n",
        "print(c)\n",
        "\n",
        "end = time()\n",
        "\n",
        "print('time elapsed:', end - start)"
      ],
      "metadata": {
        "id": "EHicccNjsQHw",
        "colab": {
          "base_uri": "https://localhost:8080/"
        },
        "outputId": "38a91a73-49e9-4f66-e28a-ce95a9b6d2c9"
      },
      "execution_count": null,
      "outputs": [
        {
          "output_type": "stream",
          "name": "stdout",
          "text": [
            "\"장마가 시작되었다. 비가 온다. 가뭄이 해소되었다.\"는 문장에 있는 글자 수는\n",
            "28\n",
            "자입니다.\n",
            "time elapsed: 0.00409388542175293\n"
          ]
        }
      ]
    },
    {
      "cell_type": "code",
      "source": [
        "start = time()\n",
        "\n",
        "print(d + a + d + b + '\\n' + str(len(a)) + '\\n' + c)\n",
        "\n",
        "end = time()\n",
        "\n",
        "print('time elapsed:', end - start)"
      ],
      "metadata": {
        "colab": {
          "base_uri": "https://localhost:8080/"
        },
        "id": "X7NyneK1KhmE",
        "outputId": "472c5f84-4041-4c66-8f3f-cf3428fdc361"
      },
      "execution_count": null,
      "outputs": [
        {
          "output_type": "stream",
          "name": "stdout",
          "text": [
            "\"장마가 시작되었다. 비가 온다. 가뭄이 해소되었다.\"는 문장에 있는 글자 수는\n",
            "28\n",
            "자입니다.\n",
            "time elapsed: 0.0014789104461669922\n"
          ]
        }
      ]
    },
    {
      "cell_type": "code",
      "source": [
        "start = time()\n",
        "\n",
        "print(d + a + d + b, str(len(a)), c)\n",
        "\n",
        "end = time()\n",
        "\n",
        "print('time elapsed:', end - start)"
      ],
      "metadata": {
        "colab": {
          "base_uri": "https://localhost:8080/"
        },
        "id": "3axmzkT5LXLP",
        "outputId": "dc512e76-13e7-45d6-d45b-ec3651191bdd"
      },
      "execution_count": null,
      "outputs": [
        {
          "output_type": "stream",
          "name": "stdout",
          "text": [
            "\"장마가 시작되었다. 비가 온다. 가뭄이 해소되었다.\"는 문장에 있는 글자 수는 28 자입니다.\n",
            "time elapsed: 0.0005578994750976562\n"
          ]
        }
      ]
    },
    {
      "cell_type": "code",
      "source": [
        ""
      ],
      "metadata": {
        "id": "f2ByN_i2Z70H"
      },
      "execution_count": null,
      "outputs": []
    }
  ]
}